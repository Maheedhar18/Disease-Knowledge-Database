{
 "cells": [
  {
   "cell_type": "code",
   "execution_count": null,
   "id": "27e318d2",
   "metadata": {},
   "outputs": [],
   "source": []
  },
  {
   "cell_type": "code",
   "execution_count": 7,
   "id": "bb4c5852",
   "metadata": {},
   "outputs": [
    {
     "name": "stdout",
     "output_type": "stream",
     "text": [
      "Search: cholera\n",
      "Other names  ::  Asiatic cholera, epidemic cholera[1]\n",
      "-----------------\n",
      "Specialty  ::  Infectious disease\n",
      "-----------------\n",
      "Symptoms  ::  Large amounts of watery diarrhea, vomiting, muscle cramps[2][3]\n",
      "-----------------\n",
      "Complications  ::  Dehydration, electrolyte imbalance[2]\n",
      "-----------------\n",
      "Usual onset  ::  2 hours to 5 days after exposure[3]\n",
      "-----------------\n",
      "Duration  ::  A few days[2]\n",
      "-----------------\n",
      "Causes  ::  Vibrio cholerae spread by fecal-oral route[2][4]\n",
      "-----------------\n",
      "Risk factors  ::  Poor sanitation, not enough clean drinking water, poverty[2]\n",
      "-----------------\n",
      "Diagnostic method  ::  Stool test[2]\n",
      "-----------------\n",
      "Prevention  ::  Improved sanitation, clean water, hand washing, cholera vaccines[2][5]\n",
      "-----------------\n",
      "Treatment  ::  Oral rehydration therapy, zinc supplementation, intravenous fluids, antibiotics[2][6]\n",
      "-----------------\n",
      "Prognosis  ::  Less than 1% mortality rate with proper treatment, untreated mortality rate 50-60%\n",
      "-----------------\n",
      "Frequency  ::  3–5 million people a year[2]\n",
      "-----------------\n",
      "Deaths  ::  28,800 (2015)[7]\n",
      "-----------------\n",
      "The primary symptoms of cholera are profuse diarrhea and vomiting of clear fluid. These symptoms usually start suddenly, half a day to five days after ingestion of the bacteria. The diarrhea is frequently described as \"rice water\" in nature and may have a fishy odor. An untreated person with cholera may produce 10 to 20 litres (3 to 5 US gal) of diarrhea a day. Severe cholera, without treatment, kills about half of affected individuals. If the severe diarrhea is not treated, it can result in life-threatening dehydration and electrolyte imbalances. Estimates of the ratio of asymptomatic to symptomatic infections have ranged from 3 to 100. Cholera has been nicknamed the \"blue death\" because a person's skin may turn bluish-gray from extreme loss of fluids.\n",
      "Fever is rare and should raise suspicion for secondary infection. Patients can be lethargic and might have sunken eyes, dry mouth, cold clammy skin, or wrinkled hands and feet. Kussmaul breathing, a deep and labored breathing pattern, can occur because of acidosis from stool bicarbonate losses and lactic acidosis associated with poor perfusion. Blood pressure drops due to dehydration, peripheral pulse is rapid and thready, and urine output decreases with time. Muscle cramping and weakness, altered consciousness, seizures, or even coma due to electrolyte imbalances are common, especially in children.\n",
      "\n"
     ]
    }
   ],
   "source": [
    "import requests\n",
    "import string\n",
    "import re\n",
    "from bs4 import BeautifulSoup\n",
    "import pymongo\n",
    "\n",
    "Input = input(\"Search: \")\n",
    "u_i = string.capwords(Input)\n",
    "lists = u_i.split()\n",
    "word =  \"_\".join(lists)\n",
    "\n",
    "url = \"https://en.wikipedia.org/wiki/\"+word\n",
    "\n",
    "def wikiscrape(url):\n",
    "    url_open = requests.get(url)\n",
    "    soup = BeautifulSoup(url_open.content,'html.parser')\n",
    "    details = soup('table',{'class':'infobox'})\n",
    "    wikitext = \"\"\n",
    "    disgeninfo={\"Disease\" : word}\n",
    "    for i in details:\n",
    "        h = i.find_all('tr')\n",
    "        for j in h:\n",
    "            heading = j.find_all('th')\n",
    "            detail = j.find_all('td')\n",
    "            if heading is not None and detail is not None:\n",
    "                for x,y in zip(heading,detail):\n",
    "                    disgeninfo[x.text]=y.text\n",
    "                    print(\"{}  ::  {}\".format(x.text,y.text))\n",
    "                    print(\"-----------------\")\n",
    "    for i in range(6,8):\n",
    "        wikitext += soup('p')[i].text\n",
    "    wikitext = re.sub(r\"\\[.*?\\]+\", '', wikitext)\n",
    "    print(wikitext)\n",
    "    client = pymongo.MongoClient('mongodb+srv://<username>:<password>@cluster0.bndg37a.mongodb.net/<database>?retryWrites=true&w=majority')\n",
    "    db = client.capstone.generalinformations\n",
    "    db.insert_one(disgeninfo)\n",
    "wikiscrape(url)\n"
   ]
  },
  {
   "cell_type": "code",
   "execution_count": null,
   "id": "32fb1a1a",
   "metadata": {},
   "outputs": [],
   "source": []
  },
  {
   "cell_type": "code",
   "execution_count": null,
   "id": "987672ac",
   "metadata": {},
   "outputs": [],
   "source": []
  }
 ],
 "metadata": {
  "kernelspec": {
   "display_name": "Python 3 (ipykernel)",
   "language": "python",
   "name": "python3"
  },
  "language_info": {
   "codemirror_mode": {
    "name": "ipython",
    "version": 3
   },
   "file_extension": ".py",
   "mimetype": "text/x-python",
   "name": "python",
   "nbconvert_exporter": "python",
   "pygments_lexer": "ipython3",
   "version": "3.9.13"
  }
 },
 "nbformat": 4,
 "nbformat_minor": 5
}
