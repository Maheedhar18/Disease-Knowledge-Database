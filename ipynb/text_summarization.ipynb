{
 "cells": [
  {
   "cell_type": "code",
   "execution_count": 2,
   "id": "97486c69",
   "metadata": {},
   "outputs": [
    {
     "name": "stdout",
     "output_type": "stream",
     "text": [
      "Symptoms of COVID-19\n",
      "Length of original article: 2800\n",
      "Length of summary: 1820 \n",
      "\n",
      "Headline: Symptoms of COVID-19 \n",
      "\n",
      "Article Summary:\n",
      "People with COVID-19 have had a wide range of symptoms reported – ranging from mild symptoms to severe illness.\n",
      "Anyone can have mild to severe symptoms.\n",
      "This list does not include all possible symptoms.\n",
      "Symptoms may change with new COVID-19 variants and can vary depending on vaccination status.\n",
      "*This list is not all possible symptoms.\n",
      "Please call your medical provider for any other symptoms that are severe or concerning to you.\n",
      "Influenza (Flu) and COVID-19 are both contagious respiratory illnesses, but they are caused by different viruses.\n",
      "COVID-19 is caused by infection with a coronavirus named SARS-CoV-2, and flu is caused by infection with influenza viruses.\n",
      "You cannot tell the difference between flu and COVID-19 by symptoms alone because some of the symptoms are the same.\n",
      "Some PCR tests can differentiate between flu and COVID-19 at the same time.\n",
      "If one of these tests is not available, many testing locations provide flu and COVID-19 tests separately.\n",
      "Talk to a healthcare provider about getting tested for both flu and COVID-19 if you have symptoms.\n",
      "These cookies allow us to count visits and traffic sources so we can measure and improve the performance of our site.\n",
      "All information these cookies collect is aggregated and therefore anonymous.\n",
      "If you do not allow these cookies we will not know when you have visited our site, and will not be able to monitor its performance.\n",
      "These cookies perform functions like remembering presentation options or choices and, in some cases, delivery of web content that based on self-identified area of interests.\n",
      "Cookies used to enable you to share pages and content that you find interesting on CDC.gov through third party social networking and other websites.\n",
      "If you need to go back and make any changes, you can always do so by going to our Privacy Policy page.\n"
     ]
    }
   ],
   "source": [
    "import requests\n",
    "from bs4 import BeautifulSoup\n",
    "from gensim.summarization import summarize\n",
    "\n",
    "url = 'https://www.cdc.gov/coronavirus/2019-ncov/symptoms-testing/symptoms.html'\n",
    "page = requests.get(url).text\n",
    "\n",
    "soup = BeautifulSoup(page)\n",
    "\n",
    "headline = soup.find('h1').get_text()\n",
    "print(headline)\n",
    "\n",
    "p_tags = soup.find_all('p')\n",
    "# Get the text from each of the \"p\" tags and strip surrounding whitespace.\n",
    "p_tags_text = [tag.get_text().strip() for tag in p_tags]\n",
    "\n",
    "# Filter out sentences that contain newline characters '\\n' or don't contain periods.\n",
    "sentence_list = [sentence for sentence in p_tags_text if not '\\n' in sentence]\n",
    "sentence_list = [sentence for sentence in sentence_list if '.' in sentence]\n",
    "\n",
    "# Combine list items into string.\n",
    "article = ' '.join(sentence_list)\n",
    "\n",
    "summary = summarize(article, ratio=0.6)\n",
    "\n",
    "print(f'Length of original article: {len(article)}')\n",
    "print(f'Length of summary: {len(summary)} \\n')\n",
    "print(f'Headline: {headline} \\n')\n",
    "print(f'Article Summary:\\n{summary}')"
   ]
  },
  {
   "cell_type": "code",
   "execution_count": 9,
   "id": "3277e0b1",
   "metadata": {},
   "outputs": [
    {
     "name": "stdout",
     "output_type": "stream",
     "text": [
      "Search: cholera\n",
      "The primary symptoms of cholera are profuse diarrhea and vomiting of clear fluid. These symptoms usually start suddenly, half a day to five days after ingestion of the bacteria. The diarrhea is frequently described as \"rice water\" in nature and may have a fishy odor. An untreated person with cholera may produce 10 to 20 litres (3 to 5 US gal) of diarrhea a day. Severe cholera, without treatment, kills about half of affected individuals. If the severe diarrhea is not treated, it can result in life-threatening dehydration and electrolyte imbalances. Estimates of the ratio of asymptomatic to symptomatic infections have ranged from 3 to 100. Cholera has been nicknamed the \"blue death\" because a person's skin may turn bluish-gray from extreme loss of fluids.\n",
      "Fever is rare and should raise suspicion for secondary infection. Patients can be lethargic and might have sunken eyes, dry mouth, cold clammy skin, or wrinkled hands and feet. Kussmaul breathing, a deep and labored breathing pattern, can occur because of acidosis from stool bicarbonate losses and lactic acidosis associated with poor perfusion. Blood pressure drops due to dehydration, peripheral pulse is rapid and thready, and urine output decreases with time. Muscle cramping and weakness, altered consciousness, seizures, or even coma due to electrolyte imbalances are common, especially in children.\n",
      "\n",
      "Length of original article: 2800\n",
      "Length of summary: 643 \n",
      "\n",
      "Headline: Symptoms of COVID-19 \n",
      "\n",
      "Article Summary:\n",
      "The primary symptoms of cholera are profuse diarrhea and vomiting of clear fluid.\n",
      "An untreated person with cholera may produce 10 to 20 litres (3 to 5 US gal) of diarrhea a day.\n",
      "Severe cholera, without treatment, kills about half of affected individuals.\n",
      "If the severe diarrhea is not treated, it can result in life-threatening dehydration and electrolyte imbalances.\n",
      "Estimates of the ratio of asymptomatic to symptomatic infections have ranged from 3 to 100.\n",
      "Cholera has been nicknamed the \"blue death\" because a person's skin may turn bluish-gray from extreme loss of fluids.\n",
      "Fever is rare and should raise suspicion for secondary infection.\n"
     ]
    }
   ],
   "source": [
    "import requests\n",
    "import string\n",
    "import re\n",
    "from bs4 import BeautifulSoup\n",
    "from gensim.summarization import summarize\n",
    "\n",
    "Input = input(\"Search: \")\n",
    "u_i = string.capwords(Input)\n",
    "lists = u_i.split()\n",
    "word =  \"_\".join(lists)\n",
    "\n",
    "url = \"https://en.wikipedia.org/wiki/\"+word\n",
    "page = requests.get(url).text\n",
    "\n",
    "soup = BeautifulSoup(page)\n",
    "\n",
    "wikitext = \"\"\n",
    "for i in range(6,8):\n",
    "    wikitext += soup('p')[i].text\n",
    "wikitext = re.sub(r\"\\[.*?\\]+\", '', wikitext)\n",
    "print(wikitext)\n",
    "\n",
    "summary = summarize(wikitext, ratio=0.6)\n",
    "\n",
    "print(f'Length of original article: {len(article)}')\n",
    "print(f'Length of summary: {len(summary)} \\n')\n",
    "print(f'Headline: {headline} \\n')\n",
    "print(f'Article Summary:\\n{summary}')"
   ]
  },
  {
   "cell_type": "code",
   "execution_count": null,
   "id": "bf839abc",
   "metadata": {},
   "outputs": [],
   "source": []
  }
 ],
 "metadata": {
  "kernelspec": {
   "display_name": "Python 3 (ipykernel)",
   "language": "python",
   "name": "python3"
  },
  "language_info": {
   "codemirror_mode": {
    "name": "ipython",
    "version": 3
   },
   "file_extension": ".py",
   "mimetype": "text/x-python",
   "name": "python",
   "nbconvert_exporter": "python",
   "pygments_lexer": "ipython3",
   "version": "3.9.13"
  }
 },
 "nbformat": 4,
 "nbformat_minor": 5
}
