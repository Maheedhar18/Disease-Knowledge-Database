{
 "cells": [
  {
   "cell_type": "code",
   "execution_count": 2,
   "metadata": {},
   "outputs": [
    {
     "name": "stderr",
     "output_type": "stream",
     "text": [
      "C:\\Users\\u\\AppData\\Local\\Temp\\ipykernel_1324\\2482899925.py:6: DeprecationWarning: executable_path has been deprecated, please pass in a Service object\n",
      "  driver = webdriver.Chrome(ChromeDriverManager().install())\n"
     ]
    },
    {
     "data": {
      "text/html": [
       "<div>\n",
       "<style scoped>\n",
       "    .dataframe tbody tr th:only-of-type {\n",
       "        vertical-align: middle;\n",
       "    }\n",
       "\n",
       "    .dataframe tbody tr th {\n",
       "        vertical-align: top;\n",
       "    }\n",
       "\n",
       "    .dataframe thead th {\n",
       "        text-align: right;\n",
       "    }\n",
       "</style>\n",
       "<table border=\"1\" class=\"dataframe\">\n",
       "  <thead>\n",
       "    <tr style=\"text-align: right;\">\n",
       "      <th></th>\n",
       "      <th>Name</th>\n",
       "      <th>Weight</th>\n",
       "      <th>Structure</th>\n",
       "      <th>Description</th>\n",
       "      <th>Categories</th>\n",
       "    </tr>\n",
       "  </thead>\n",
       "  <tbody>\n",
       "    <tr>\n",
       "      <th>0</th>\n",
       "      <td>1-Palmitoyl-2-oleoyl-sn-glycero-3-(phospho-rac...</td>\n",
       "      <td>749.02 C40H77O10P</td>\n",
       "      <td>NaN</td>\n",
       "      <td>A synthetic lung surfactant used to treat infa...</td>\n",
       "      <td>Not Available</td>\n",
       "    </tr>\n",
       "    <tr>\n",
       "      <th>1</th>\n",
       "      <td>1,2-Benzodiazepine</td>\n",
       "      <td>144.177 C9H8N2</td>\n",
       "      <td>NaN</td>\n",
       "      <td>Benzodiazepine is under investigation for the ...</td>\n",
       "      <td>Benzazepines / Benzodiazepines and benzodiazep...</td>\n",
       "    </tr>\n",
       "    <tr>\n",
       "      <th>2</th>\n",
       "      <td>1,2-Distearoyllecithin</td>\n",
       "      <td>790.161 C44H88NO8P</td>\n",
       "      <td>NaN</td>\n",
       "      <td>Not Annotated</td>\n",
       "      <td>Glycerophosphates / Glycerophospholipids / Lip...</td>\n",
       "    </tr>\n",
       "    <tr>\n",
       "      <th>3</th>\n",
       "      <td>1,2-icosapentoyl-sn-glycero-3-phosphoserine</td>\n",
       "      <td>842.064 C47H72NO10P</td>\n",
       "      <td>NaN</td>\n",
       "      <td>Not Annotated</td>\n",
       "      <td>Not Annotated</td>\n",
       "    </tr>\n",
       "    <tr>\n",
       "      <th>4</th>\n",
       "      <td>2-mercaptobenzothiazole</td>\n",
       "      <td>167.251 C7H5NS2</td>\n",
       "      <td>NaN</td>\n",
       "      <td>Not Annotated</td>\n",
       "      <td>Standardized Chemical Allergen</td>\n",
       "    </tr>\n",
       "  </tbody>\n",
       "</table>\n",
       "</div>"
      ],
      "text/plain": [
       "                                                Name               Weight  \\\n",
       "0  1-Palmitoyl-2-oleoyl-sn-glycero-3-(phospho-rac...    749.02 C40H77O10P   \n",
       "1                                 1,2-Benzodiazepine       144.177 C9H8N2   \n",
       "2                             1,2-Distearoyllecithin   790.161 C44H88NO8P   \n",
       "3        1,2-icosapentoyl-sn-glycero-3-phosphoserine  842.064 C47H72NO10P   \n",
       "4                            2-mercaptobenzothiazole      167.251 C7H5NS2   \n",
       "\n",
       "   Structure                                        Description  \\\n",
       "0        NaN  A synthetic lung surfactant used to treat infa...   \n",
       "1        NaN  Benzodiazepine is under investigation for the ...   \n",
       "2        NaN                                      Not Annotated   \n",
       "3        NaN                                      Not Annotated   \n",
       "4        NaN                                      Not Annotated   \n",
       "\n",
       "                                          Categories  \n",
       "0                                      Not Available  \n",
       "1  Benzazepines / Benzodiazepines and benzodiazep...  \n",
       "2  Glycerophosphates / Glycerophospholipids / Lip...  \n",
       "3                                      Not Annotated  \n",
       "4                     Standardized Chemical Allergen  "
      ]
     },
     "execution_count": 2,
     "metadata": {},
     "output_type": "execute_result"
    }
   ],
   "source": [
    "import pymongo\n",
    "import pandas as pd\n",
    "from selenium import webdriver\n",
    "from webdriver_manager.chrome import ChromeDriverManager\n",
    "\n",
    "driver = webdriver.Chrome(ChromeDriverManager().install())\n",
    "\n",
    "\n",
    "\n",
    "url = 'https://go.drugbank.com/drugs'\n",
    "#driver = webdriver.Chrome()\n",
    "driver.get(url)\n",
    "page = driver.page_source\n",
    "\n",
    "# will return a list of dataframes\n",
    "tables = pd.read_html(page)\n",
    "\n",
    "# chose the dataframe you want from the list by it's position\n",
    "df = tables[0]\n",
    "\n",
    "df.head()"
   ]
  },
  {
   "cell_type": "code",
   "execution_count": 3,
   "metadata": {},
   "outputs": [],
   "source": [
    "import dns.resolver\n",
    "dns.resolver.default_resolver=dns.resolver.Resolver(configure=False)\n",
    "dns.resolver.default_resolver.nameservers=['8.8.8.8'] "
   ]
  },
  {
   "cell_type": "code",
   "execution_count": 4,
   "metadata": {},
   "outputs": [],
   "source": [
    "client = pymongo.MongoClient('mongodb+srv://<username>:<password>@cluster0.bndg37a.mongodb.net/<database>?retryWrites=true&w=majority')\n",
    "db = client.capstone.druginformations\n",
    "i=0\n",
    "for row in range(len(df)):\n",
    "    post={\"Name\" : df.iat[i,0], \"Weight\" : df.iat[i,1], \"Description\" : df.iat[i,3], \"Categories\" : df.iat[i,4]}\n",
    "    db.insert_one(post)\n",
    "    i+=1"
   ]
  },
  {
   "cell_type": "code",
   "execution_count": null,
   "metadata": {},
   "outputs": [],
   "source": []
  },
  {
   "cell_type": "code",
   "execution_count": null,
   "metadata": {},
   "outputs": [],
   "source": []
  },
  {
   "cell_type": "code",
   "execution_count": null,
   "metadata": {},
   "outputs": [],
   "source": []
  }
 ],
 "metadata": {
  "kernelspec": {
   "display_name": "Python 3 (ipykernel)",
   "language": "python",
   "name": "python3"
  },
  "language_info": {
   "codemirror_mode": {
    "name": "ipython",
    "version": 3
   },
   "file_extension": ".py",
   "mimetype": "text/x-python",
   "name": "python",
   "nbconvert_exporter": "python",
   "pygments_lexer": "ipython3",
   "version": "3.9.13"
  }
 },
 "nbformat": 4,
 "nbformat_minor": 4
}
