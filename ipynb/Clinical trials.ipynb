{
 "cells": [
  {
   "cell_type": "code",
   "execution_count": 4,
   "id": "39838d95",
   "metadata": {},
   "outputs": [
    {
     "name": "stderr",
     "output_type": "stream",
     "text": [
      "C:\\Users\\u\\AppData\\Local\\Temp\\ipykernel_5744\\2865306275.py:5: DeprecationWarning: executable_path has been deprecated, please pass in a Service object\n",
      "  driver = webdriver.Chrome(ChromeDriverManager().install())\n"
     ]
    },
    {
     "data": {
      "text/html": [
       "<div>\n",
       "<style scoped>\n",
       "    .dataframe tbody tr th:only-of-type {\n",
       "        vertical-align: middle;\n",
       "    }\n",
       "\n",
       "    .dataframe tbody tr th {\n",
       "        vertical-align: top;\n",
       "    }\n",
       "\n",
       "    .dataframe thead th {\n",
       "        text-align: right;\n",
       "    }\n",
       "</style>\n",
       "<table border=\"1\" class=\"dataframe\">\n",
       "  <thead>\n",
       "    <tr style=\"text-align: right;\">\n",
       "      <th></th>\n",
       "      <th>Phase</th>\n",
       "      <th>Status</th>\n",
       "      <th>Purpose</th>\n",
       "      <th>Conditions</th>\n",
       "      <th>Count</th>\n",
       "    </tr>\n",
       "  </thead>\n",
       "  <tbody>\n",
       "    <tr>\n",
       "      <th>0</th>\n",
       "      <td>2</td>\n",
       "      <td>Completed</td>\n",
       "      <td>Treatment</td>\n",
       "      <td>Hypoxemic Acute Respiratory Failure</td>\n",
       "      <td>1</td>\n",
       "    </tr>\n",
       "    <tr>\n",
       "      <th>1</th>\n",
       "      <td>2</td>\n",
       "      <td>Terminated</td>\n",
       "      <td>Prevention</td>\n",
       "      <td>Chronic Lung Disease of Prematurity / Prematur...</td>\n",
       "      <td>1</td>\n",
       "    </tr>\n",
       "  </tbody>\n",
       "</table>\n",
       "</div>"
      ],
      "text/plain": [
       "   Phase      Status     Purpose  \\\n",
       "0      2   Completed   Treatment   \n",
       "1      2  Terminated  Prevention   \n",
       "\n",
       "                                          Conditions  Count  \n",
       "0                Hypoxemic Acute Respiratory Failure      1  \n",
       "1  Chronic Lung Disease of Prematurity / Prematur...      1  "
      ]
     },
     "execution_count": 4,
     "metadata": {},
     "output_type": "execute_result"
    }
   ],
   "source": [
    "import pandas as pd\n",
    "from selenium import webdriver\n",
    "from webdriver_manager.chrome import ChromeDriverManager\n",
    "\n",
    "driver = webdriver.Chrome(ChromeDriverManager().install())\n",
    "\n",
    "\n",
    "\n",
    "url = 'https://go.drugbank.com/drugs/DB11331'\n",
    "#driver = webdriver.Chrome()\n",
    "driver.get(url)\n",
    "page = driver.page_source\n",
    "\n",
    "# will return a list of dataframes\n",
    "tables = pd.read_html(page)\n",
    "\n",
    "# chose the dataframe you want from the list by it's position\n",
    "df = tables[2]\n",
    "\n",
    "df.head()"
   ]
  },
  {
   "cell_type": "code",
   "execution_count": 5,
   "id": "a84541b1",
   "metadata": {},
   "outputs": [],
   "source": [
    "import dns.resolver\n",
    "dns.resolver.default_resolver=dns.resolver.Resolver(configure=False)\n",
    "dns.resolver.default_resolver.nameservers=['8.8.8.8'] "
   ]
  },
  {
   "cell_type": "code",
   "execution_count": 9,
   "id": "461a0353",
   "metadata": {},
   "outputs": [],
   "source": [
    "import pymongo\n",
    "client = pymongo.MongoClient('mongodb+srv://<username>:<password>@cluster0.bndg37a.mongodb.net/<database>?retryWrites=true&w=majority')\n",
    "db = client.capstone.clinicaltrials\n",
    "i=0\n",
    "for row in range(len(df)):\n",
    "    post={\"Phase\" : str(df.iat[i,0]), \"Status\" : df.iat[i,1], \"Purpose\" : df.iat[i,2], \"Conditions\" : df.iat[i,3], \"Count\" : str(df.iat[i,4])}\n",
    "    db.insert_one(post)\n",
    "    i+=1"
   ]
  },
  {
   "cell_type": "code",
   "execution_count": null,
   "id": "b2f0b8ef",
   "metadata": {},
   "outputs": [],
   "source": []
  }
 ],
 "metadata": {
  "kernelspec": {
   "display_name": "Python 3 (ipykernel)",
   "language": "python",
   "name": "python3"
  },
  "language_info": {
   "codemirror_mode": {
    "name": "ipython",
    "version": 3
   },
   "file_extension": ".py",
   "mimetype": "text/x-python",
   "name": "python",
   "nbconvert_exporter": "python",
   "pygments_lexer": "ipython3",
   "version": "3.9.13"
  }
 },
 "nbformat": 4,
 "nbformat_minor": 5
}
