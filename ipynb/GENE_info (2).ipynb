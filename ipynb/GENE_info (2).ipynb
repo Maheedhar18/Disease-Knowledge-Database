{
 "cells": [
  {
   "cell_type": "code",
   "execution_count": 3,
   "id": "8ae30ab0",
   "metadata": {},
   "outputs": [],
   "source": [
    "import dns.resolver\n",
    "dns.resolver.default_resolver=dns.resolver.Resolver(configure=False)\n",
    "dns.resolver.default_resolver.nameservers=['8.8.8.8'] "
   ]
  },
  {
   "cell_type": "code",
   "execution_count": null,
   "id": "3306757c",
   "metadata": {},
   "outputs": [
    {
     "name": "stderr",
     "output_type": "stream",
     "text": [
      "C:\\Users\\u\\AppData\\Local\\Temp\\ipykernel_13860\\555062716.py:9: DeprecationWarning: executable_path has been deprecated, please pass in a Service object\n",
      "  driver = webdriver.Chrome(ChromeDriverManager().install())\n"
     ]
    },
    {
     "name": "stdout",
     "output_type": "stream",
     "text": [
      "\n",
      "Search : malaria\n",
      "Successfully Inserted\n",
      "\n",
      "Search : tuberculosis\n",
      "Successfully Inserted\n",
      "\n",
      "Search : diabetes\n",
      "Successfully Inserted\n",
      "\n",
      "Search : pneumonia\n",
      "Successfully Inserted\n",
      "\n",
      "Search : chickenpox\n",
      "Successfully Inserted\n",
      "\n",
      "Search : influenza\n",
      "Successfully Inserted\n",
      "\n",
      "Search : measles\n",
      "Successfully Inserted\n",
      "\n",
      "Search : psoriasis\n",
      "Successfully Inserted\n",
      "\n",
      "Search : bronchitis\n",
      "Successfully Inserted\n",
      "\n",
      "Search : schizophrenia\n",
      "Successfully Inserted\n",
      "\n",
      "Search : common cold\n",
      "Successfully Inserted\n"
     ]
    }
   ],
   "source": [
    "import pandas as pd\n",
    "from selenium import webdriver\n",
    "from webdriver_manager.chrome import ChromeDriverManager\n",
    "import pymongo\n",
    "\n",
    "client = pymongo.MongoClient('mongodb+srv://<username>:<password>@cluster0.bndg37a.mongodb.net/<database>?retryWrites=true&w=majority')\n",
    "db = client.capstone.geneinformations\n",
    "\n",
    "driver = webdriver.Chrome(ChromeDriverManager().install())\n",
    "\n",
    "while True:\n",
    "    search=input(\"\\nSearch : \")\n",
    "    if search==\"exit\":\n",
    "        break\n",
    "    u = 'https://www.genecards.org/Search/Keyword?queryString='+search\n",
    "    def scrape(url):\n",
    "        \n",
    "        #driver = webdriver.Chrome()\n",
    "        driver.get(url)\n",
    "        page = driver.page_source\n",
    "\n",
    "        # will return a list of dataframes\n",
    "        tables = pd.read_html(page)\n",
    "\n",
    "        # chose the dataframe you want from the list by it's position\n",
    "        df = tables[0]\n",
    "        \n",
    "        i=0\n",
    "        for row in range(len(df)):\n",
    "            post={\"Disease\" : search, \"Gene\" : {\"Symbol\" : df.iat[i,2], \"Description\" : df.iat[i,3], \"Category\" : df.iat[i,4]}}\n",
    "            db.insert_one(post)\n",
    "            i+=1\n",
    "        print(\"Successfully Inserted\")\n",
    "            \n",
    "    scrape(u)"
   ]
  },
  {
   "cell_type": "code",
   "execution_count": null,
   "id": "3d456eb9",
   "metadata": {},
   "outputs": [],
   "source": []
  },
  {
   "cell_type": "code",
   "execution_count": null,
   "id": "b62ec04e",
   "metadata": {},
   "outputs": [],
   "source": []
  }
 ],
 "metadata": {
  "kernelspec": {
   "display_name": "Python 3 (ipykernel)",
   "language": "python",
   "name": "python3"
  },
  "language_info": {
   "codemirror_mode": {
    "name": "ipython",
    "version": 3
   },
   "file_extension": ".py",
   "mimetype": "text/x-python",
   "name": "python",
   "nbconvert_exporter": "python",
   "pygments_lexer": "ipython3",
   "version": "3.9.13"
  }
 },
 "nbformat": 4,
 "nbformat_minor": 5
}
